{
  "cells": [
    {
      "cell_type": "markdown",
      "metadata": {
        "id": "Xf9Sr3eFNrzK"
      },
      "source": [
        "#**Airspace SVG**\n"
      ]
    },
    {
      "cell_type": "markdown",
      "metadata": {
        "id": "ZoKrHysuJb2i"
      },
      "source": [
        "*This script will extract the relavent data from the DAFIF and create a file which the webpage can understand*"
      ]
    },
    {
      "cell_type": "markdown",
      "metadata": {
        "id": "ocUmNbpcJ2vr"
      },
      "source": [
        "*   First **upload DAFIDUK_ED_8-1.zip** file to this page (file icon, \n",
        "left hand side) this will take a few minutes to upload.\n",
        "*    From the toolbar up top select Runtime then **Run All** to run the script\n",
        "*    Once the program has finished **refresh the folder** to show the airspace.svg file. \n",
        "*    **Download airspace.svg** andplace in the folder containing the airspace trainer webpage."
      ]
    },
    {
      "cell_type": "markdown",
      "metadata": {
        "id": "jURcdyD9Lc4V"
      },
      "source": [
        "**YOU SHOULD NOT NEED TO CHANGE ANYTHING BELOW HERE**"
      ]
    },
    {
      "cell_type": "markdown",
      "metadata": {
        "id": "Qm9_tPyDSusS"
      },
      "source": [
        "##Imports, Constants & Gobal Functions"
      ]
    },
    {
      "cell_type": "markdown",
      "metadata": {
        "id": "QEgIXlvKN3c_"
      },
      "source": [
        "Import Libraries\n"
      ]
    },
    {
      "cell_type": "code",
      "execution_count": 29,
      "metadata": {
        "id": "aHJNVn_lNlDS"
      },
      "outputs": [],
      "source": [
        "import pandas as pd\n",
        "import math\n",
        "import re\n",
        "from zipfile import ZipFile"
      ]
    },
    {
      "cell_type": "markdown",
      "metadata": {
        "id": "piDMHv48S4Xq"
      },
      "source": [
        "Constants"
      ]
    },
    {
      "cell_type": "code",
      "execution_count": 30,
      "metadata": {
        "id": "fX9eXe6uS-2C"
      },
      "outputs": [],
      "source": [
        "mapWidth = 784.225 ;\n",
        "mapHeight = 978.724;\n",
        "\n",
        "mapLonLeft = -11.45;\n",
        "mapLonRight = 4.30;\n",
        "mapLonDelta = mapLonRight - mapLonLeft;\n",
        "\n",
        "mapLatBottom = 49.75;\n",
        "mapLatBottomDegree = mapLatBottom * math.pi / 180;\n",
        "\n",
        "lowerRegex = 'FL([0-9][0-9]{1,2})|([0-9]{5})AMSL|([0-9]{5})AGL|([0-9]{5}$)|(SURFACE)|(GND)|(BY NOTAM)|(U)'\n",
        "upperRegex = 'FL([0-9][0-9]{1,2})|([0-9]{6})AMSL|([0-9]{6})AGL|([0-9]{5}$)|(UNLTD)|(BY NOTAM)|(U)'\n",
        "\n",
        "suasType = {\"A\": \"ALERT\", \"D\": \"DANGER\", \"M\": \"MILITARY OPERATIONS AREA\", \"P\": \"PROHIBITED\", \"R\": \"RESTRICTED\", \"T\": \"TEMPORARY RESERVED AIRSPACE\", \"W\": \"WARNING\", }"
      ]
    },
    {
      "cell_type": "markdown",
      "metadata": {
        "id": "hJblhDZZS76y"
      },
      "source": [
        "Global Functions\n"
      ]
    },
    {
      "cell_type": "code",
      "execution_count": 31,
      "metadata": {
        "id": "LqC2162LS16e"
      },
      "outputs": [],
      "source": [
        "def convertGeoToPixel(lat, lon):\n",
        "  x = (lon - mapLonLeft) * (mapWidth / mapLonDelta);\n",
        "  lat = lat * math.pi / 180;\n",
        "  worldMapWidth = ((mapWidth / mapLonDelta) * 360) / (2 * math.pi);\n",
        "  mapOffsetY = (worldMapWidth / 2 * math.log((1 + math.sin(mapLatBottomDegree)) / (1 - math.sin(mapLatBottomDegree))));\n",
        "  y= mapHeight - ((worldMapWidth / 2 * math.log((1 + math.sin(lat)) / (1 - math.sin(lat)))) - mapOffsetY);\n",
        "  return round(x,3), round(y,3)\n",
        "\n",
        "def convertPixelToGeo(x, y) :\n",
        "  worldMapRadius = ((mapWidth / mapLonDelta) * 360) / (2 * math.pi);\n",
        "  mapOffsetY = (worldMapRadius / 2) * math.log((1 + math.sin(mapLatBottomDegree)) / (1 - math.sin(mapLatBottomDegree)));\n",
        "  equatorY = mapHeight + mapOffsetY;\n",
        "  a = (equatorY - y) / worldMapRadius;\n",
        "  lat = (180 / math.pi) * (2 * math.atan(math.exp(a)) - math.pi / 2);\n",
        "  lon = mapLonLeft + (x / mapWidth) * mapLonDelta;\n",
        "  return round(lat, 3), round(lon,3);\n",
        "\n",
        "def pixelsPerNM(lat):\n",
        "  return mapWidth/(mapLonDelta*(math.cos(lat*math.pi/180)*60))\n",
        "\n",
        "def parse(rows, df, path, circle, par=\"\"):\n",
        "  if(path):\n",
        "    return createPath(rows, df, par)\n",
        "  elif(circle):\n",
        "    return createCircle(rows, df, par)\n",
        "  else:\n",
        "    return createPolygon(rows, df, par)\n",
        "\n",
        "def createArc(row):\n",
        "  lat = row.WGS_DLAT0\n",
        "  lon = row.WGS_DLONG0\n",
        "  x0,y0 = convertGeoToPixel(lat,lon)\n",
        "  r = round(row.RADIUS1 * pixelsPerNM(lat),3)\n",
        "\n",
        "  lat = row.WGS_DLAT1\n",
        "  lon = row.WGS_DLONG1\n",
        "  x1,y1 = convertGeoToPixel(lat,lon)\n",
        "\n",
        "  lat = row.WGS_DLAT2\n",
        "  lon = row.WGS_DLONG2\n",
        "  x2,y2 = convertGeoToPixel(lat,lon)\n",
        "\n",
        "  sf = 0 if row.SHAP == 'L' else 1\n",
        "\n",
        "  T = math.atan2(y0 - y1, x0 - x1) * 180/math.pi\n",
        "  C = math.atan2(y2 - y1,x2 - x1) * 180/math.pi\n",
        "  δ=(T-C+540)%360-180\n",
        "  dir = 'L' if δ < 0 else 'R'\n",
        "  laf = 0 if dir == row.SHAP else 1\n",
        "\n",
        "  return f'A {r} {r} 0 {laf} {sf} {x2} {y2}'\n",
        "\n",
        "def createCircle(rows, df, par):\n",
        "  area = df.iloc[rows,:] \n",
        "  for row in area.itertuples():\n",
        "    lat = row.WGS_DLAT0\n",
        "    lon = row.WGS_DLONG0\n",
        "    x,y = convertGeoToPixel(lat,lon)\n",
        "    r = round(row.RADIUS1 * pixelsPerNM(lat),3)\n",
        "    return f'<circle {par} id=\"{name}\" cx=\"{x}\" cy=\"{y}\" r=\"{r}\" vector-effect=\"non-scaling-stroke\"></circle>'\n",
        "\n",
        "def createPolygon(rows, df, par):\n",
        "  points = []\n",
        "  area = df.iloc[rows,:] \n",
        "  for row in area.itertuples():\n",
        "    lat = row.WGS_DLAT1\n",
        "    lon = row.WGS_DLONG1\n",
        "    x,y = convertGeoToPixel(lat,lon)\n",
        "    points.append(f'{str(x)} {str(y)}')\n",
        "  points = ' '.join(points)\n",
        "  return f'<polygon {par} id=\"{name}\" points=\"{points}\" vector-effect=\"non-scaling-stroke\"></polygon>'\n",
        "\n",
        "def createPath(rows, df, par):\n",
        "  area = df.iloc[rows,:] \n",
        "  points = []\n",
        "  for index, row in enumerate(area.itertuples()):\n",
        "\n",
        "    if index == 0:\n",
        "      lat = row.WGS_DLAT1\n",
        "      lon = row.WGS_DLONG1\n",
        "      x,y = convertGeoToPixel(lat,lon)    \n",
        "      points.append(f'{str(x)} {str(y)}')\n",
        "\n",
        "    if row.SHAP == 'L' or row.SHAP == 'R':\n",
        "      points.append(createArc(row))\n",
        "    elif index != -1:\n",
        "      lat = row.WGS_DLAT2\n",
        "      lon = row.WGS_DLONG2\n",
        "      x,y = convertGeoToPixel(lat,lon) \n",
        "      points.append(f'L {str(x)} {str(y)}')   \n",
        "  return f'<path {par} id=\"{name}\" d=\"M {\" \".join(points)} Z\" vector-effect=\"non-scaling-stroke\"></path>'\n",
        "\n",
        "def bdrypar(id, df):\n",
        "  row = df.loc[df['BDRY_IDENT'] == id]\n",
        "  classification = row.CLASS.values[0]\n",
        "  remarks = row.CLASS_EX_RMK.values[0]\n",
        "  remarks = remarks.replace('&', 'AND')\n",
        "  lower = row.LOWER_ALT.values[0]\n",
        "  upper = row.UPPER_ALT.values[0]\n",
        "  min = lowerToFL(lower)\n",
        "  max = upperToFL(upper)\n",
        "  return f'data-class=\"{classification}\" data-remarks=\"{remarks}\" data-lower=\"{lower}\" data-upper=\"{upper}\" data-min=\"{min}\" data-max=\"{max}\"'\n",
        "\n",
        "def suaspar(id, sector, df):\n",
        "  row = df.loc[(df['SUAS_IDENT'] == id) & (df['SECTOR'] == sector if sector else True)]\n",
        "  airspaceType = suasType[row.TYPE.values[0]]\n",
        "  lower = row.LOWER_ALT.values[0]\n",
        "  upper = row.UPPER_ALT.values[0]\n",
        "  min = lowerToFL(lower)\n",
        "  max = upperToFL(upper)\n",
        "  return f'data-type=\"{airspaceType}\" data-lower=\"{lower}\" data-upper=\"{upper}\" data-min=\"{min}\" data-max=\"{max}\"'\n",
        "\n",
        "def arfpar(id, df):\n",
        "  row = df.loc[df['ARF_IDENT'] == id]\n",
        "  lower = row.REFUEL1_ALT1.values[0]\n",
        "  upper = row.REFUEL1_ALT2.values[0]\n",
        "  min = lowerToFL(lower)\n",
        "  max = upperToFL(upper)\n",
        "  return f'data-lower=\"{lower}\" data-upper=\"{upper}\" data-min=\"{min}\" data-max=\"{max}\"'\n",
        "\n",
        "def lowerToFL(lower: str):\n",
        "  if any(string in lower for string in [\"SURFACE\", \"GND\", \"BY NOTAM\", \"U\"]):\n",
        "    return 0\n",
        "  else:\n",
        "    match = re.search(lowerRegex, lower)\n",
        "    level = int(next(filter(lambda el: el, match.groups())))\n",
        "    if match.group(2) or match.group(3) or match.group(4):\n",
        "      level = level/100\n",
        "    return int(level)\n",
        "\n",
        "def upperToFL(upper: str):\n",
        "  if any(string in upper for string in [\"UNLTD\", \"BY NOTAM\", \"U\"]):\n",
        "    return 660\n",
        "  else:\n",
        "    match = re.search(lowerRegex, upper)\n",
        "    level = int(next(filter(lambda el: el, match.groups())))\n",
        "    if match.group(2) or match.group(3) or match.group(4):\n",
        "      level = level/100\n",
        "    return int(level)"
      ]
    },
    {
      "cell_type": "markdown",
      "metadata": {
        "id": "vtrHwNjeIjDy"
      },
      "source": [
        "##Unzip the DAFIF"
      ]
    },
    {
      "cell_type": "code",
      "execution_count": 32,
      "metadata": {
        "id": "QNnw5BTDIiBU"
      },
      "outputs": [],
      "source": [
        "with ZipFile(\"DAFIFUK_ED_8-1.zip\") as myZip:\n",
        "    with myZip.open('Ed8.1_CD/DAFIF81/DAFIFT/WPT/WPT.TXT') as myFile:\n",
        "        wpt = pd.read_csv(myFile, sep='\\t', dtype={'WAC': 'str'})\n",
        "    with myZip.open('Ed8.1_CD/DAFIF81/DAFIFT/ARPT/ARPT.TXT') as myFile:\n",
        "        arpt = pd.read_csv(myFile, sep='\\t', dtype={})\n",
        "    with myZip.open('Ed8.1_CD/DAFIF81/DAFIFT/SUAS/SUAS.TXT') as myFile:\n",
        "        suas = pd.read_csv(myFile, sep='\\t', converters={\n",
        "                           'SECTOR': str, 'NAME': str})\n",
        "    with myZip.open('Ed8.1_CD/DAFIF81/DAFIFT/SUAS/SUAS_PAR.TXT') as myFile:\n",
        "        suas_par = pd.read_csv(myFile, sep='\\t')\n",
        "    with myZip.open('Ed8.1_CD/DAFIF81/DAFIFT/BDRY/BDRY.TXT') as myFile:\n",
        "        bdry = pd.read_csv(myFile, sep='\\t', converters={'DERIVATION': str})\n",
        "    with myZip.open('Ed8.1_CD/DAFIF81/DAFIFT/BDRY/BDRY_PAR.TXT') as myFile:\n",
        "        bdry_par = pd.read_csv(myFile, sep='\\t', converters={\n",
        "                               'CLASS': str, 'CLASS_EX_RMK': str})\n",
        "    with myZip.open('Ed8.1_CD/DAFIF81/DAFIFT/ARF/ARF_SEG.TXT') as myFile:\n",
        "        arf = pd.read_csv(myFile, sep='\\t')\n",
        "    with myZip.open('Ed8.1_CD/DAFIF81/DAFIFT/ARF/ARF_PAR.TXT') as myFile:\n",
        "        arf_par = pd.read_csv(myFile, sep='\\t')\n",
        "    with myZip.open('Ed8.1_CD/DAFIF81/DAFIFT/ATS/ATS.TXT') as myFile:\n",
        "        ats = pd.read_csv(myFile, sep='\\t', converters={\n",
        "                          'WPT1_DESC_4': str, 'WPT2_DESC_4': str, 'OUTBD_CRS': str, 'INBD_CRS': str})\n",
        "    with myZip.open('Ed8.1_CD/DAFIF81/VERSION') as myFile:\n",
        "        version = myFile.readline().decode('utf-8')\n",
        "        cycle = pd.to_datetime(version[:4], format=\"%y%m\")\n",
        "        cycle = f'{cycle.month_name()[:3]} {cycle.year}'\n",
        "        expirationDate = pd.to_datetime(version[12:20],format=\"%d%m%Y\")\n",
        "        expirationDate =pd.Timestamp(expirationDate).timestamp()"
      ]
    },
    {
      "cell_type": "markdown",
      "metadata": {
        "id": "iOVDeAuzMp2c"
      },
      "source": [
        "#Airspace Definitions"
      ]
    },
    {
      "cell_type": "markdown",
      "metadata": {
        "id": "19WyGVXjbFZb"
      },
      "source": [
        "##Defs & Styles"
      ]
    },
    {
      "cell_type": "code",
      "execution_count": 33,
      "metadata": {
        "id": "Wz6A3mjJZa0W"
      },
      "outputs": [],
      "source": [
        "def createDefsAndStyles():\n",
        "  airspace.write('<defs>'\n",
        "    '<pattern id=\"aar-pattern\" x=\"0\" y=\"0\" width=\"0.3\" height=\"0.3\" patternUnits=\"userSpaceOnUse\">'\n",
        "    '<circle cx=\"0.1\" cy=\"0.1\" r=\"0.1\" fill=\"rgb(50, 46, 42)\"></circle>'\n",
        "    '</pattern>'\n",
        "    '<polygon id=\"waypoint-pattern\" x=\"-0.5\" y=\"-0.25\" width=\"2\" height=\"1\" stroke=\"rgb(80,80,80)\" stroke-width=\"0.1\" fill=\"transparent\" points=\"0,-0.25 0.5,0.5 -0.5,0.5\"/>'\n",
        "    '<rect id=\"airfield-pattern\" x=\"-0.5\" y=\"-0.5\" width=\"1\" height=\"1\" stroke=\"rgb(80,80,80)\" stroke-width=\"0.1\" fill=\"transparent\"/>'\n",
        "    '</defs>')\n",
        "  airspace.write('<style>text {fill: rgb(80, 80, 80); font-family: Arial, sans-serif; font-size: 2px; white-space: pre; }</style>')"
      ]
    },
    {
      "cell_type": "markdown",
      "metadata": {
        "id": "heBm6gxBSNSq"
      },
      "source": [
        "##Waypoints\n"
      ]
    },
    {
      "cell_type": "code",
      "execution_count": 34,
      "metadata": {
        "id": "aGOtGP00TZ_o"
      },
      "outputs": [],
      "source": [
        "def createWaypoints():\n",
        "  airspace.write('<!-- WAYPOINTS -->')\n",
        "  #Create group for all waypoints\n",
        "  airspace.write('<g id=\"waypoints\">')\n",
        "\n",
        "  for row in wpt.itertuples():\n",
        "    if row.CTRY != 'UK' or row.TYPE != 'R':\n",
        "      continue\n",
        "    lat = row.WGS_DLAT\n",
        "    lon = row.WGS_DLONG\n",
        "    x,y = convertGeoToPixel(lat,lon)\n",
        "\n",
        "    #Element\n",
        "    airspace.write('<g>')\n",
        "    airspace.write(f'<use id=\"{row.WPT_IDENT}\" x=\"{x}\" y=\"{y}\" href=\"#waypoint-pattern\"/>')\n",
        "    airspace.write(f'<text x=\"{x+1}\" y=\"{y+1}\">{row.WPT_IDENT.capitalize()}</text>')\n",
        "    airspace.write('</g>')\n",
        "    \n",
        "  #Close group\n",
        "  airspace.write('</g>\\n')"
      ]
    },
    {
      "cell_type": "markdown",
      "metadata": {
        "id": "3HpW6Q8oTRAy"
      },
      "source": [
        "##Airfields\n"
      ]
    },
    {
      "cell_type": "code",
      "execution_count": 35,
      "metadata": {
        "id": "qb_M6aS4TRAy"
      },
      "outputs": [],
      "source": [
        "def createAirfields():\n",
        "  airspace.write('<!-- Airfields -->')\n",
        "  #Create group for all airfields\n",
        "  airspace.write('<g id=\"airfields\">')\n",
        "\n",
        "  for row in arpt.itertuples():\n",
        "    if not row.ICAO.startswith('EG'):\n",
        "      # UK only\n",
        "      continue\n",
        "    lat = row.WGS_DLAT\n",
        "    lon = row.WGS_DLONG\n",
        "    x,y = convertGeoToPixel(lat,lon)\n",
        "\n",
        "    #Element\n",
        "    airspace.write('<g>')\n",
        "    airspace.write(f'<use id=\"{row.ICAO}\" x=\"{x}\" y=\"{y}\" href=\"#airfield-pattern\"/>')\n",
        "    airspace.write(f'<text x=\"{x+1}\" y=\"{y+1}\">{row.ICAO.upper()}</text>')\n",
        "    airspace.write('</g>')\n",
        "    \n",
        "  #Close group\n",
        "  airspace.write('</g>\\n')"
      ]
    },
    {
      "cell_type": "markdown",
      "metadata": {
        "id": "EaNp3zGDTFhD"
      },
      "source": [
        "##SUAS \n",
        "\n"
      ]
    },
    {
      "cell_type": "code",
      "execution_count": 36,
      "metadata": {
        "id": "pXafW6noDmWY"
      },
      "outputs": [],
      "source": [
        "def whichGroup(row):\n",
        "  if row.TYPE == 'D':\n",
        "    if not 'Z' in row.SECTOR:\n",
        "      return danger\n",
        "  if row.TYPE == 'M':\n",
        "    if row.NAME.startswith('TRA '):\n",
        "      return tra\n",
        "    if row.NAME.startswith('E3 ORBIT AREA'):\n",
        "      return orbit\n",
        "      \n",
        "indices = []\n",
        "name = None\n",
        "path = False\n",
        "circle = False\n",
        "tra = []\n",
        "orbit = []\n",
        "danger = []\n",
        "ident = None\n",
        "sector = None\n",
        "\n",
        "for index, row in enumerate(suas.itertuples()):\n",
        "  if not row.ICAO.startswith('EG'):\n",
        "    # UK only\n",
        "    continue\n",
        "  if not (row.TYPE == 'D' and not 'Z' in row.SECTOR)  and not (row.TYPE == 'M' and (row.NAME.startswith('TRA ') or row.NAME.startswith('E3 ORBIT AREA'))):\n",
        "    continue\n",
        "\n",
        "  if name == None:\n",
        "    name = row.SUAS_IDENT + row.SECTOR;\n",
        "    ident = row.SUAS_IDENT\n",
        "    sector = row.SECTOR\n",
        "    group = whichGroup(row)\n",
        "  if name != row.SUAS_IDENT + row.SECTOR:\n",
        "    group.append(parse(indices, suas, path, circle, suaspar(ident, sector, suas_par)))\n",
        "    name = row.SUAS_IDENT + row.SECTOR;\n",
        "    ident = row.SUAS_IDENT\n",
        "    sector = row.SECTOR\n",
        "    group = whichGroup(row)\n",
        "    indices = []\n",
        "    path = False\n",
        "    circle = False\n",
        "  indices.append(index)\n",
        "  if row.SHAP == 'L' or row.SHAP == 'R':\n",
        "    path = True\n",
        "  if row.SHAP == 'C':\n",
        "    circle = True\n",
        "group.append(parse(indices, suas, path, circle, suaspar(ident, sector, suas_par)))\n",
        "\n",
        "def createDangerAreas():\n",
        "  airspace.write('<!-- Danger Areas -->')\n",
        "  airspace.write('<g id=\"danger-areas\">')\n",
        "  airspace.write('\\n'.join(danger))\n",
        "  airspace.write('</g>\\n')\n",
        "\n",
        "def createTRAs():\n",
        "  airspace.write('<!-- TRAs -->')\n",
        "  airspace.write('<g id=\"tras\" style=\"stroke: rgb(95, 94, 109); stroke-width: 0.5; fill: none;\">')\n",
        "  airspace.write('\\n'.join(tra))\n",
        "  airspace.write('</g>\\n')\n",
        "\n",
        "def createOrbits():\n",
        "  airspace.write('<!-- Orbits -->')\n",
        "  airspace.write('<g id=\"orbits\" style=\"stroke: rgb(25, 99, 26); stroke-width: 0.5; fill: none;\">')\n",
        "  airspace.write('\\n'.join(orbit))\n",
        "  airspace.write('</g>\\n')"
      ]
    },
    {
      "cell_type": "markdown",
      "metadata": {
        "id": "OJ2VjCH4K2tG"
      },
      "source": [
        "##Boundary \n",
        "\n"
      ]
    },
    {
      "cell_type": "code",
      "execution_count": 37,
      "metadata": {
        "id": "-SGO0e67K2tM"
      },
      "outputs": [],
      "source": [
        "def whichGroup(row):\n",
        "  if row.TYPE == 4:\n",
        "    return ACC\n",
        "  if row.TYPE == 6:\n",
        "    return CTA\n",
        "  if row.TYPE == 7:\n",
        "    return CTZ\n",
        "  if row.TYPE == 8:\n",
        "    return FIR\n",
        "  if row.TYPE == 9:\n",
        "    return OCA\n",
        "  if row.TYPE == 10:\n",
        "    return Radar\n",
        "  if row.TYPE == 11:\n",
        "    return TCA\n",
        "  if row.TYPE == 12:\n",
        "    return UIR\n",
        "  if row.TYPE == 14:\n",
        "    return Other\n",
        "    \n",
        "indices = []\n",
        "name = None\n",
        "path = False\n",
        "circle = False\n",
        "ACC = []\n",
        "CTA = []\n",
        "CTZ = []\n",
        "FIR = []\n",
        "OCA = []\n",
        "Radar = []\n",
        "TCA = []\n",
        "UIR = []\n",
        "Other = []\n",
        "ident = None\n",
        "\n",
        "for index, row in enumerate(bdry.itertuples()):\n",
        "  if not row.ICAO.startswith('EG'):\n",
        "    # UK only\n",
        "    continue\n",
        "  if 'UPPER AIRSPACE' in row.NAME:\n",
        "    continue\n",
        "\n",
        "  if name == None:\n",
        "    name = row.NAME;\n",
        "    ident = row.BDRY_IDENT\n",
        "    group = whichGroup(row)\n",
        "  if name != row.NAME:\n",
        "    group.append(parse(indices, bdry, path, circle, bdrypar(ident, bdry_par)))\n",
        "    name = row.NAME;\n",
        "    ident = row.BDRY_IDENT\n",
        "    group = whichGroup(row)\n",
        "    indices = []\n",
        "    path = False\n",
        "    circle = False\n",
        "  indices.append(index)\n",
        "  if row.SHAP == 'L' or row.SHAP == 'R':\n",
        "    path = True\n",
        "  if row.SHAP == 'C':\n",
        "    circle = True\n",
        "group.append(parse(indices, bdry, path, circle, bdrypar(ident, bdry_par)))\n",
        "\n",
        "#Create ACCs\n",
        "def createACCs():\n",
        "  airspace.write('<!-- ACCs -->')\n",
        "  airspace.write('<g id=\"ACCs\" style=\"stroke: rgb(80, 80, 80); stroke-width: 0.5; stroke-opacity: 0.2; fill: none;\">')\n",
        "  airspace.write('\\n'.join(ACC))\n",
        "  airspace.write('</g>\\n')\n",
        "\n",
        "#Create CTAs\n",
        "def createCTAs():\n",
        "  airspace.write('<!-- CTAs -->')\n",
        "  airspace.write('<g id=\"CTAs\" style=\"stroke: rgb(25, 99, 26); stroke-width: 0.5; fill: rgb(25, 99, 26); fill-opacity: 0.1;\">')\n",
        "  airspace.write('\\n'.join(CTA))\n",
        "  airspace.write('</g>\\n')\n",
        "\n",
        "#Create CTZs\n",
        "def createCTZs():\n",
        "  airspace.write('<!-- CTZs -->')\n",
        "  airspace.write('<g id=\"CTZs\" style=\"stroke: rgb(25, 99, 26); stroke-width: 0.5; fill: rgb(25, 99, 26); fill-opacity: 0.1;\">')\n",
        "  airspace.write('\\n'.join(CTZ))\n",
        "  airspace.write('</g>\\n')\n",
        "\n",
        "#Create FIRs\n",
        "def createFIRs():\n",
        "  airspace.write('<!-- FIRs -->')\n",
        "  airspace.write('<g id=\"FIRs\" style=\"stroke: rgb(25, 99, 26); stroke-width: 0.5; fill: none;\">')\n",
        "  airspace.write('\\n'.join(FIR))\n",
        "  airspace.write('</g>\\n')\n",
        "\n",
        "#Create OCAs\n",
        "def createOCAs():\n",
        "  airspace.write('<!-- OCAs -->')\n",
        "  airspace.write('<g id=\"OCAs\" style=\"stroke: rgb(25, 99, 26); stroke-width: 0.5; fill: none;\">')\n",
        "  airspace.write('\\n'.join(OCA))\n",
        "  airspace.write('</g>\\n')\n",
        "\n",
        "#Create Radars\n",
        "def createRadars():\n",
        "  airspace.write('<!-- Radars -->')\n",
        "  airspace.write('<g id=\"Radars\" style=\"stroke: rgb(25, 99, 26); stroke-width: 0.5; fill: none;\">')\n",
        "  airspace.write('\\n'.join(Radar))\n",
        "  airspace.write('</g>\\n')\n",
        "\n",
        "#Create TCAs\n",
        "def createTCAs():\n",
        "  airspace.write('<!-- TCAs -->')\n",
        "  airspace.write('<g id=\"TCAs\" style=\"stroke: rgb(25, 99, 26); stroke-width: 0.5; fill: rgb(25, 99, 26); fill-opacity: 0.1;\">')\n",
        "  airspace.write('\\n'.join(TCA))\n",
        "  airspace.write('</g>\\n')\n",
        "\n",
        "#Create UIRs\n",
        "def createUIRs():\n",
        "  airspace.write('<!-- UIRs -->')\n",
        "  airspace.write('<g id=\"UIRs\" style=\"stroke: rgb(25, 99, 26); stroke-width: 0.5; fill: none;\">')\n",
        "  airspace.write('\\n'.join(UIR))\n",
        "  airspace.write('</g>\\n')\n",
        "\n",
        "#Create Others\n",
        "def createOthers():\n",
        "  airspace.write('<!-- Others -->')\n",
        "  airspace.write('<g id=\"Others\" style=\"stroke: rgb(25, 99, 26); stroke-width: 0.5; fill: none;\">')\n",
        "  airspace.write('\\n'.join(Other))\n",
        "  airspace.write('</g>\\n')"
      ]
    },
    {
      "cell_type": "markdown",
      "metadata": {
        "id": "HTF_qZExwRNM"
      },
      "source": [
        "##AAR"
      ]
    },
    {
      "cell_type": "code",
      "execution_count": 38,
      "metadata": {
        "id": "FItNNd7_wYnH"
      },
      "outputs": [],
      "source": [
        "indices = []\n",
        "name = None\n",
        "path = False\n",
        "circle = False\n",
        "aar = []\n",
        "\n",
        "for index,row in enumerate(arf.itertuples()):\n",
        "  if not row.ICAO.startswith('EG'):\n",
        "    # UK only\n",
        "    continue\n",
        "\n",
        "  if name == None:\n",
        "    name = row.ARF_IDENT;\n",
        "  if name != row.ARF_IDENT:\n",
        "    aar.append(parse(indices, arf, path, circle, arfpar(name, arf_par)))\n",
        "    indices = []\n",
        "    path = False\n",
        "    circle = False\n",
        "    name = row.ARF_IDENT;\n",
        "  indices.append(index)\n",
        "  if row.SHAP == 'L' or row.SHAP == 'R':\n",
        "    path = True\n",
        "  if row.SHAP == 'C':\n",
        "    circle = True\n",
        "aar.append(parse(indices, arf, path, circle, arfpar(name, arf_par)))\n",
        "\n",
        "def createAAR():\n",
        "  airspace.write('<!-- AAR -->')\n",
        "  airspace.write('<g id=\"aar\" fill=\"url(#aar-pattern)\">')\n",
        "  airspace.write('\\n'.join(aar))\n",
        "  airspace.write('</g>\\n')"
      ]
    },
    {
      "cell_type": "markdown",
      "metadata": {
        "id": "X-zIt3-8CsKc"
      },
      "source": [
        "##Air Routes"
      ]
    },
    {
      "cell_type": "code",
      "execution_count": 39,
      "metadata": {
        "id": "bJxUVqOoAQJP"
      },
      "outputs": [],
      "source": [
        "def createAirRoutes(): \n",
        "  points = []\n",
        "  name = None\n",
        "  airspace.write('<!-- Air Routes -->')\n",
        "  #Create group\n",
        "  airspace.write('<g id=\"air-routes\" style=\"stroke: rgb(80, 80, 80); stroke-width: 0.5; stroke-opacity: 0.2; fill: none;\">')\n",
        "\n",
        "  for row in ats.itertuples():\n",
        "    if not row.ICAO.startswith('EG'):\n",
        "      # UK only\n",
        "      continue\n",
        "    if row.LEVEL == 'L':\n",
        "      continue\n",
        "    lat = row.WPT1_WGS_DLAT\n",
        "    lon = row.WPT1_WGS_DLONG\n",
        "    x,y = convertGeoToPixel(lat,lon)\n",
        "\n",
        "    if name == None:\n",
        "      name = row.ATS_IDENT;\n",
        "    if name != row.ATS_IDENT:\n",
        "      points = ' '.join(points)\n",
        "      airspace.write(f'<polyline id=\"{name}\" points=\"{points}\" vector-effect=\"non-scaling-stroke\"></polyline>')\n",
        "      points = []\n",
        "      name = row.ATS_IDENT;\n",
        "    points.append(f'{str(x)}, {str(y)}')\n",
        "  points = ' '.join(points)\n",
        "  airspace.write(f'<polyline id=\"{name}\" points=\"{points}\" vector-effect=\"non-scaling-stroke\"></polyline>')\n",
        "\n",
        "  #Close group\n",
        "  airspace.write('</g>\\n')"
      ]
    },
    {
      "cell_type": "markdown",
      "metadata": {
        "id": "oNW41oWWT4Fe"
      },
      "source": [
        "#Create SVG\n"
      ]
    },
    {
      "cell_type": "code",
      "execution_count": 40,
      "metadata": {
        "id": "rLXb3C20hQ6O"
      },
      "outputs": [],
      "source": [
        "airspace = open('airspace.svg', 'w')\n",
        "airspace.write(f'<?xml-stylesheet type=\"text/css\" href=\"svg.css\" ?> <svg viewBox=\"0 0 784.225 1046\" xmlns=\"http://www.w3.org/2000/svg\" data-cycle=\"{cycle}\" data-date=\"{expirationDate}\"><g id=\"matrix-group\" transform=\"matrix(1 0 0 1 0 0)\">')\n",
        "createDefsAndStyles();\n",
        "\n",
        "createAAR();\n",
        "\n",
        "createDangerAreas();\n",
        "\n",
        "createTRAs();\n",
        "\n",
        "createCTAs();\n",
        "\n",
        "createCTZs();\n",
        "\n",
        "createTCAs();\n",
        "\n",
        "createAirfields();\n",
        "\n",
        "createWaypoints();\n",
        "\n",
        "airspace.write('</g></svg>')\n",
        "airspace.close()"
      ]
    }
  ],
  "metadata": {
    "colab": {
      "collapsed_sections": [],
      "provenance": []
    },
    "kernelspec": {
      "display_name": "Python 3.9.2 ('.venv~': venv)",
      "language": "python",
      "name": "python3"
    },
    "language_info": {
      "codemirror_mode": {
        "name": "ipython",
        "version": 3
      },
      "file_extension": ".py",
      "mimetype": "text/x-python",
      "name": "python",
      "nbconvert_exporter": "python",
      "pygments_lexer": "ipython3",
      "version": "3.9.2"
    },
    "vscode": {
      "interpreter": {
        "hash": "2412c0c1dd1a9b27ed364b22859e858486fbc8c4f87f735d4c463352da2c3b85"
      }
    }
  },
  "nbformat": 4,
  "nbformat_minor": 0
}
